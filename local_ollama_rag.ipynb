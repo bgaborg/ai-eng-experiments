{
 "cells": [
  {
   "cell_type": "code",
   "execution_count": 139,
   "metadata": {},
   "outputs": [],
   "source": [
    "from langchain_community.document_loaders import WebBaseLoader\n",
    "from langchain.text_splitter import RecursiveCharacterTextSplitter\n",
    "# List of URLs to load documents from\n",
    "urls = [\n",
    "    \"https://en.wikipedia.org/wiki/Portal:Current_events/February_2025\",\n",
    "    \"https://en.wikipedia.org/wiki/Roland_TR-808\"\n",
    "]\n",
    "# Load documents from the URLs\n",
    "docs = [WebBaseLoader(url).load() for url in urls]\n",
    "docs_list = [item for sublist in docs for item in sublist]"
   ]
  },
  {
   "cell_type": "code",
   "execution_count": 140,
   "metadata": {},
   "outputs": [],
   "source": [
    "# Initialize a text splitter with specified chunk size and overlap\n",
    "text_splitter = RecursiveCharacterTextSplitter.from_tiktoken_encoder(\n",
    "    chunk_size=300, chunk_overlap=0\n",
    ")\n",
    "# Split the documents into chunks\n",
    "doc_splits = text_splitter.split_documents(docs_list)"
   ]
  },
  {
   "cell_type": "code",
   "execution_count": 141,
   "metadata": {},
   "outputs": [
    {
     "name": "stderr",
     "output_type": "stream",
     "text": [
      "/Users/gabor.bota/dev/ollama_rag/.venv/lib/python3.11/site-packages/langchain_community/vectorstores/duckdb.py:113: UserWarning: No DuckDB connection provided. A new connection will be created.This connection is running in memory and no data will be persisted.To persist data, specify `connection=duckdb.connect(...)` when using the API. Please review the documentation of the vectorstore for security recommendations on configuring the connection.\n",
      "  warnings.warn(\n"
     ]
    }
   ],
   "source": [
    "from langchain_community.vectorstores import DuckDB\n",
    "from langchain_ollama import OllamaEmbeddings\n",
    "# Create embeddings for documents and store them in a vector store\n",
    "vectorstore = DuckDB.from_documents(\n",
    "    documents=doc_splits,\n",
    "    embedding=OllamaEmbeddings(\n",
    "    model=\"llama3.2\"\n",
    ")\n",
    ")\n",
    "retriever = vectorstore.as_retriever(k=4)"
   ]
  },
  {
   "cell_type": "code",
   "execution_count": 142,
   "metadata": {},
   "outputs": [],
   "source": [
    "from langchain_ollama import ChatOllama\n",
    "from langchain.prompts import PromptTemplate\n",
    "from langchain_core.output_parsers import StrOutputParser\n",
    "# Define the prompt template for the LLM\n",
    "prompt = PromptTemplate(\n",
    "    template=\"\"\"You are an assistant for question-answering tasks.\n",
    "    Use the following documents to answer the question.\n",
    "    If you don't know the answer, just say that you don't know.\n",
    "    Use three sentences maximum and keep the answer concise:\n",
    "    Question: {question}\n",
    "    Documents: {documents}\n",
    "    Answer:\n",
    "    \"\"\",\n",
    "    input_variables=[\"question\", \"documents\"],\n",
    ")"
   ]
  },
  {
   "cell_type": "code",
   "execution_count": 143,
   "metadata": {},
   "outputs": [],
   "source": [
    "# Initialize the LLM with Llama 3.1 model\n",
    "llm = ChatOllama(\n",
    "    model=\"llama3.2\",\n",
    "    temperature=0,\n",
    ")"
   ]
  },
  {
   "cell_type": "code",
   "execution_count": 144,
   "metadata": {},
   "outputs": [],
   "source": [
    "# Create a chain combining the prompt template and LLM\n",
    "rag_chain = prompt | llm | StrOutputParser()"
   ]
  },
  {
   "cell_type": "code",
   "execution_count": 145,
   "metadata": {},
   "outputs": [],
   "source": [
    "# Define the RAG application class\n",
    "class RAGApplication:\n",
    "    def __init__(self, retriever, rag_chain):\n",
    "        self.retriever = retriever\n",
    "        self.rag_chain = rag_chain\n",
    "    def run(self, question):\n",
    "        # Retrieve relevant documents\n",
    "        documents = self.retriever.invoke(question)\n",
    "        print(documents)\n",
    "        # Extract content from retrieved documents\n",
    "        doc_texts = \"\\\\n\".join([doc.page_content for doc in documents])\n",
    "        # Get the answer from the language model\n",
    "        answer = self.rag_chain.invoke({\"question\": question, \"documents\": doc_texts})\n",
    "        return answer"
   ]
  },
  {
   "cell_type": "code",
   "execution_count": 152,
   "metadata": {},
   "outputs": [
    {
     "name": "stdout",
     "output_type": "stream",
     "text": [
      "[Document(metadata={'source': 'https://en.wikipedia.org/wiki/Roland_TR-808', 'title': 'Roland TR-808 - Wikipedia', 'language': 'en', '_similarity_score': np.float64(0.5035594203219714)}, page_content='Other artists who have used the 808 include Damon Albarn, Diplo, Fatboy Slim, David Guetta and New Order.[3][40] It has been referenced in lyrics by artists including the Beastie Boys, Beck, Outkast, Kelis, TI, Lil Wayne, Britney Spears, Beyoncé, R Kelly and Robbie Williams.[3][11] Its bass drum has been used as a metaphor for a heartbeat in songs by artists including Madonna, Rihanna and Kesha.[11]'), Document(metadata={'source': 'https://en.wikipedia.org/wiki/Roland_TR-808', 'title': 'Roland TR-808 - Wikipedia', 'language': 'en', '_similarity_score': np.float64(0.4913470701467913)}, page_content='The British electronic group 808 State took its name from the 808 and used it extensively.[11] 808 State\\'s Graham Massey said: \"The Roland gear began to be a kind of Esperanto in music. The whole world began to be less separated through this technology, and there was a classiness to it—you could transcend your provincial music with this equipment.\"[2] With the rise of rave culture, a precursor to acid house, the 808 became a staple sound on British radio.[3] In the early 90s, the Japanese composer Yuzo Koshiro incorporated samples of the 808 in his soundtracks for the Streets of Rage games.[35]'), Document(metadata={'source': 'https://en.wikipedia.org/wiki/Roland_TR-808', 'title': 'Roland TR-808 - Wikipedia', 'language': 'en', '_similarity_score': np.float64(0.49069026660301)}, page_content='Though the 808 was unsuccessful, it was eventually used on more hit records than any other drum machine[24] and became one of the most influential inventions in popular music.[7][25] By the time Roland discontinued it in 1983, it had become common on the used market, often selling for less than $100 (equivalent to $316 in 2024).[11] Its ease of use,[7] affordability and idiosyncratic sound earned it a cult following among underground musicians and producers,[11] and it became a cornerstone of the developing electronic and hip-hop genres.[3]\\n808 samples are common in music software, and it has inspired numerous unlicensed clones.[2][26] Flavorwire wrote that the 808 is now so ubiquitous that \"its beats are almost a language of their own\", with sounds recognizable even to listeners who do not know what drum machines are, and so \"you also notice when somebody messes with them or uses them in unusual contexts\".[27] In 2019, DJMag wrote that it was likely the most used drum machine of the preceding 40 years.[9]'), Document(metadata={'source': 'https://en.wikipedia.org/wiki/Roland_TR-808', 'title': 'Roland TR-808 - Wikipedia', 'language': 'en', '_similarity_score': np.float64(0.4799867353461702)}, page_content='The 808 was the first drum machine with which users could program a percussion track from beginning to end, complete with breaks and rolls.[15] Users can program up to 32 patterns using the step sequencer,[5] chain up to 768 measures[16] and place accents on individual beats.[5] Users can also set the tempo[5] and time signature, including unusual signatures such as 54 and 78.[17] The 808 includes volume knobs for each voice, numerous audio outputs and a DIN sync port (a precursor to MIDI) to synchronize with other devices.[5] Its three trigger outputs can synchronize with synthesizers and other equipment.[18]')]\n",
      "Question: What is 808?\n",
      "Answer: The answer is: A drum machine.\n"
     ]
    }
   ],
   "source": [
    "# Initialize the RAG application\n",
    "rag_application = RAGApplication(retriever, rag_chain)\n",
    "# Example usage\n",
    "question = \"What is 808?\"\n",
    "answer = rag_application.run(question)\n",
    "print(\"Question:\", question)\n",
    "print(\"Answer:\", answer)"
   ]
  }
 ],
 "metadata": {
  "kernelspec": {
   "display_name": ".venv",
   "language": "python",
   "name": "python3"
  },
  "language_info": {
   "codemirror_mode": {
    "name": "ipython",
    "version": 3
   },
   "file_extension": ".py",
   "mimetype": "text/x-python",
   "name": "python",
   "nbconvert_exporter": "python",
   "pygments_lexer": "ipython3",
   "version": "3.11.9"
  }
 },
 "nbformat": 4,
 "nbformat_minor": 2
}
